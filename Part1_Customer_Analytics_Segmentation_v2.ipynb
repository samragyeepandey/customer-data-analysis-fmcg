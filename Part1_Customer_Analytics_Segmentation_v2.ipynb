{
 "cells": [
  {
   "cell_type": "markdown",
   "metadata": {},
   "source": [
    "# Customer Analytics in FMGC Industry (Part 1)\n",
    "\n",
    "\n",
    "### Keywords \n",
    "\n",
    "- Marketing Mix \n",
    "- STP framework \n",
    "- Customer Analytics\n",
    "- Segmentation and Clustering\n",
    "- Dimensionality Reduction with PCA\n",
    "- Data Visualisations \n",
    "\n",
    "### Contents \n",
    "\n",
    "<ul>\n",
    "<li><a href=\"#Introduction\">1. Introduction</a></li> \n",
    "<li><a href=\"#Preparation\">2. Data Preparation</a></li>\n",
    "<li><a href=\"#Exploration\">3. Data Exploration</a></li>\n",
    "<li><a href=\"#Analysis\">4. Data Analysis</a></li>\n",
    "&emsp;4.1. Customer Analytics<br>\n",
    "&emsp;4.2. Purchase Analytics <br>\n",
    "&emsp;&emsp;&emsp;i. Descriptive Analyses by Segment <br>\n",
    "&emsp;&emsp;&emsp;&emsp;&emsp; i-1. The Proportion of each Segment <br>\n",
    "&emsp;&emsp;&emsp;&emsp;&emsp; i-2. Purchase Occasions and Purchase Incidences <br>\n",
    "&emsp;&emsp;&emsp;&emsp;&emsp; i-3. Brand Chocie <br>\n",
    "&emsp;&emsp;&emsp;&emsp;&emsp; i-4. Revenue Comparison between segments <br>\n",
    "&emsp;&emsp;&emsp;ii. Predictive Analyses <br>\n",
    "&emsp;&emsp;&emsp;&emsp;&emsp; ii-1. Modeling Purchase Incidence<br>\n",
    "&emsp;&emsp;&emsp;&emsp;&emsp; ii-2. Modeling Brand Choice <br>\n",
    "&emsp;&emsp;&emsp;&emsp;&emsp; ii-3. Modeling Purchase Quantity <br>\n",
    "<li><a href=\"#Conclusion\">5. Conclusion</a></li>\n",
    "</ul>"
   ]
  },
  {
   "cell_type": "markdown",
   "metadata": {},
   "source": [
    "<a id='Introduction'></a>\n",
    "## 1. Introduction"
   ]
  },
  {
   "cell_type": "markdown",
   "metadata": {},
   "source": [
    "For this project, I conducted the customer Analysis in the FMSC industry, based on STP Framework, and marketing modelings. This project is consisted of two parts. The first part of analysis is mainly focusing on \"Customer Analytics\". In this part, I conducted the customer segmentation, applying various clustering algorthms and also by reducing the dimensionality of the problem. Then in the second part of analysis. I mainly investigate about \"Purchase Analytics\". <br>\n",
    "I explorted the descriptive and predictive analysis of the purchase behaviour of customers, including models for purchase incidence, brand choice, purchase quantity to make predictions using real-world data. This project is motivated by Customer Analytics program in Udemy. "
   ]
  },
  {
   "cell_type": "markdown",
   "metadata": {},
   "source": [
    "<a id='Preparation'></a>\n",
    "## 2. Data Preparation"
   ]
  },
  {
   "cell_type": "code",
   "execution_count": 1,
   "metadata": {},
   "outputs": [],
   "source": [
    "# Import the relevant libraries \n",
    "import numpy as np\n",
    "import pandas as pd\n",
    "import matplotlib.pyplot as plt \n",
    "%matplotlib inline\n",
    "plt.rc(\"font\", size=14)\n",
    "import seaborn as sns\n",
    "sns.set()\n",
    "sns.set(style=\"whitegrid\", color_codes=True)"
   ]
  },
  {
   "cell_type": "code",
   "execution_count": 2,
   "metadata": {},
   "outputs": [
    {
     "data": {
      "text/html": [
       "<div>\n",
       "<style scoped>\n",
       "    .dataframe tbody tr th:only-of-type {\n",
       "        vertical-align: middle;\n",
       "    }\n",
       "\n",
       "    .dataframe tbody tr th {\n",
       "        vertical-align: top;\n",
       "    }\n",
       "\n",
       "    .dataframe thead th {\n",
       "        text-align: right;\n",
       "    }\n",
       "</style>\n",
       "<table border=\"1\" class=\"dataframe\">\n",
       "  <thead>\n",
       "    <tr style=\"text-align: right;\">\n",
       "      <th></th>\n",
       "      <th>Sex</th>\n",
       "      <th>Marital status</th>\n",
       "      <th>Age</th>\n",
       "      <th>Education</th>\n",
       "      <th>Income</th>\n",
       "      <th>Occupation</th>\n",
       "      <th>Settlement size</th>\n",
       "    </tr>\n",
       "    <tr>\n",
       "      <th>ID</th>\n",
       "      <th></th>\n",
       "      <th></th>\n",
       "      <th></th>\n",
       "      <th></th>\n",
       "      <th></th>\n",
       "      <th></th>\n",
       "      <th></th>\n",
       "    </tr>\n",
       "  </thead>\n",
       "  <tbody>\n",
       "    <tr>\n",
       "      <th>100000001</th>\n",
       "      <td>0</td>\n",
       "      <td>0</td>\n",
       "      <td>67</td>\n",
       "      <td>2</td>\n",
       "      <td>124670</td>\n",
       "      <td>1</td>\n",
       "      <td>2</td>\n",
       "    </tr>\n",
       "    <tr>\n",
       "      <th>100000002</th>\n",
       "      <td>1</td>\n",
       "      <td>1</td>\n",
       "      <td>22</td>\n",
       "      <td>1</td>\n",
       "      <td>150773</td>\n",
       "      <td>1</td>\n",
       "      <td>2</td>\n",
       "    </tr>\n",
       "    <tr>\n",
       "      <th>100000003</th>\n",
       "      <td>0</td>\n",
       "      <td>0</td>\n",
       "      <td>49</td>\n",
       "      <td>1</td>\n",
       "      <td>89210</td>\n",
       "      <td>0</td>\n",
       "      <td>0</td>\n",
       "    </tr>\n",
       "    <tr>\n",
       "      <th>100000004</th>\n",
       "      <td>0</td>\n",
       "      <td>0</td>\n",
       "      <td>45</td>\n",
       "      <td>1</td>\n",
       "      <td>171565</td>\n",
       "      <td>1</td>\n",
       "      <td>1</td>\n",
       "    </tr>\n",
       "    <tr>\n",
       "      <th>100000005</th>\n",
       "      <td>0</td>\n",
       "      <td>0</td>\n",
       "      <td>53</td>\n",
       "      <td>1</td>\n",
       "      <td>149031</td>\n",
       "      <td>1</td>\n",
       "      <td>1</td>\n",
       "    </tr>\n",
       "  </tbody>\n",
       "</table>\n",
       "</div>"
      ],
      "text/plain": [
       "           Sex  Marital status  Age  Education  Income  Occupation  \\\n",
       "ID                                                                   \n",
       "100000001    0               0   67          2  124670           1   \n",
       "100000002    1               1   22          1  150773           1   \n",
       "100000003    0               0   49          1   89210           0   \n",
       "100000004    0               0   45          1  171565           1   \n",
       "100000005    0               0   53          1  149031           1   \n",
       "\n",
       "           Settlement size  \n",
       "ID                          \n",
       "100000001                2  \n",
       "100000002                2  \n",
       "100000003                0  \n",
       "100000004                1  \n",
       "100000005                1  "
      ]
     },
     "execution_count": 2,
     "metadata": {},
     "output_type": "execute_result"
    }
   ],
   "source": [
    "# Import data \n",
    "demo_df = pd.read_csv('segmentation data.csv', index_col = 0)\n",
    "demo_df.head()"
   ]
  },
  {
   "cell_type": "code",
   "execution_count": 3,
   "metadata": {},
   "outputs": [
    {
     "name": "stdout",
     "output_type": "stream",
     "text": [
      "<class 'pandas.core.frame.DataFrame'>\n",
      "Int64Index: 2000 entries, 100000001 to 100002000\n",
      "Data columns (total 7 columns):\n",
      " #   Column           Non-Null Count  Dtype\n",
      "---  ------           --------------  -----\n",
      " 0   Sex              2000 non-null   int64\n",
      " 1   Marital status   2000 non-null   int64\n",
      " 2   Age              2000 non-null   int64\n",
      " 3   Education        2000 non-null   int64\n",
      " 4   Income           2000 non-null   int64\n",
      " 5   Occupation       2000 non-null   int64\n",
      " 6   Settlement size  2000 non-null   int64\n",
      "dtypes: int64(7)\n",
      "memory usage: 125.0 KB\n"
     ]
    }
   ],
   "source": [
    "demo_df.info()"
   ]
  },
  {
   "cell_type": "code",
   "execution_count": 4,
   "metadata": {},
   "outputs": [
    {
     "data": {
      "text/plain": [
       "0"
      ]
     },
     "execution_count": 4,
     "metadata": {},
     "output_type": "execute_result"
    }
   ],
   "source": [
    "sum(demo_df.duplicated())"
   ]
  },
  {
   "cell_type": "markdown",
   "metadata": {},
   "source": [
    "> There are 2000 customers with 7 demographic features in this dataset. The dataset does not contain missing nor duplicated values. The explanation of each feature is as follows: \n",
    ">- ID (numerical): a unique identificator of a customer.\t\t\t\t\t\n",
    ">- Sex (categorical- binary): Biological sex (gender) of a customer,\n",
    "        0: male \n",
    "        1: female\n",
    ">- Marital status (categorical):\tMarital status of a customer, \n",
    "        0: single\n",
    "        1: non-single (divorced / separated / married / widowed)}\n",
    ">- Age\t(numerical): \n",
    "The age of the customer in years, calculated as current year minus the year of birth of the customer at the time of creation of the dataset, \n",
    "        18: Min value (the lowest age)\n",
    "        76: Max value(the highest age)\t\t\t\t\n",
    ">- Education (categorical): Level of education of the customer,\t\t\t\t\t\t\n",
    "\t\t0\tother / unknown\t\t\t\t\t\n",
    "\t\t1\thigh school\t\t\t\t\t\n",
    "\t\t2\tuniversity\t\t\t\t\t\n",
    "\t\t3\tgraduate school\t\t\t\t\t\t\t\t\t\t\t\t\n",
    ">- Income\t(numerical)\tSelf-reported annual income in US dollars of the customer.\t\t\t\t\t\n",
    "\t\t35,832\tMin value (the lowest income observed in the dataset)\t\t\t\t\t\n",
    "\t\t309,364\tMax value (the highest income observed in the dataset)\t\t\t\t\t\t\t\t\t\t\t\t\n",
    ">- Occupation\t(categorical)\tCategory of occupation of the customer.\t\t\t\t\t\n",
    "\t\t0\tunemployed / unskilled\t\t\t\t\t\n",
    "\t\t1\tskilled employee / official\t\t\t\t\t\n",
    "\t\t2\tmanagement / self-employed / highly qualified employee / officer\t\t\t\t\t\n",
    ">- Settlement size\t(categorical)\tThe size of the city that the customer lives in.\t\t\t\t\t\n",
    "\t\t0\tsmall city\t\t\t\t\t\n",
    "\t\t1\tmid-sized city\t\t\t\t\t\n",
    "\t\t2\tbig city\t\t\t\t\t\n"
   ]
  },
  {
   "cell_type": "markdown",
   "metadata": {},
   "source": [
    "<a id='Exploration'></a>\n",
    "## 3. Data Exploration"
   ]
  },
  {
   "cell_type": "code",
   "execution_count": 5,
   "metadata": {
    "scrolled": true
   },
   "outputs": [
    {
     "data": {
      "text/html": [
       "<div>\n",
       "<style scoped>\n",
       "    .dataframe tbody tr th:only-of-type {\n",
       "        vertical-align: middle;\n",
       "    }\n",
       "\n",
       "    .dataframe tbody tr th {\n",
       "        vertical-align: top;\n",
       "    }\n",
       "\n",
       "    .dataframe thead th {\n",
       "        text-align: right;\n",
       "    }\n",
       "</style>\n",
       "<table border=\"1\" class=\"dataframe\">\n",
       "  <thead>\n",
       "    <tr style=\"text-align: right;\">\n",
       "      <th></th>\n",
       "      <th>Sex</th>\n",
       "      <th>Marital status</th>\n",
       "      <th>Age</th>\n",
       "      <th>Education</th>\n",
       "      <th>Income</th>\n",
       "      <th>Occupation</th>\n",
       "      <th>Settlement size</th>\n",
       "    </tr>\n",
       "  </thead>\n",
       "  <tbody>\n",
       "    <tr>\n",
       "      <th>count</th>\n",
       "      <td>2000.000000</td>\n",
       "      <td>2000.000000</td>\n",
       "      <td>2000.000000</td>\n",
       "      <td>2000.00000</td>\n",
       "      <td>2000.000000</td>\n",
       "      <td>2000.000000</td>\n",
       "      <td>2000.000000</td>\n",
       "    </tr>\n",
       "    <tr>\n",
       "      <th>mean</th>\n",
       "      <td>0.457000</td>\n",
       "      <td>0.496500</td>\n",
       "      <td>35.909000</td>\n",
       "      <td>1.03800</td>\n",
       "      <td>120954.419000</td>\n",
       "      <td>0.810500</td>\n",
       "      <td>0.739000</td>\n",
       "    </tr>\n",
       "    <tr>\n",
       "      <th>std</th>\n",
       "      <td>0.498272</td>\n",
       "      <td>0.500113</td>\n",
       "      <td>11.719402</td>\n",
       "      <td>0.59978</td>\n",
       "      <td>38108.824679</td>\n",
       "      <td>0.638587</td>\n",
       "      <td>0.812533</td>\n",
       "    </tr>\n",
       "    <tr>\n",
       "      <th>min</th>\n",
       "      <td>0.000000</td>\n",
       "      <td>0.000000</td>\n",
       "      <td>18.000000</td>\n",
       "      <td>0.00000</td>\n",
       "      <td>35832.000000</td>\n",
       "      <td>0.000000</td>\n",
       "      <td>0.000000</td>\n",
       "    </tr>\n",
       "    <tr>\n",
       "      <th>25%</th>\n",
       "      <td>0.000000</td>\n",
       "      <td>0.000000</td>\n",
       "      <td>27.000000</td>\n",
       "      <td>1.00000</td>\n",
       "      <td>97663.250000</td>\n",
       "      <td>0.000000</td>\n",
       "      <td>0.000000</td>\n",
       "    </tr>\n",
       "    <tr>\n",
       "      <th>50%</th>\n",
       "      <td>0.000000</td>\n",
       "      <td>0.000000</td>\n",
       "      <td>33.000000</td>\n",
       "      <td>1.00000</td>\n",
       "      <td>115548.500000</td>\n",
       "      <td>1.000000</td>\n",
       "      <td>1.000000</td>\n",
       "    </tr>\n",
       "    <tr>\n",
       "      <th>75%</th>\n",
       "      <td>1.000000</td>\n",
       "      <td>1.000000</td>\n",
       "      <td>42.000000</td>\n",
       "      <td>1.00000</td>\n",
       "      <td>138072.250000</td>\n",
       "      <td>1.000000</td>\n",
       "      <td>1.000000</td>\n",
       "    </tr>\n",
       "    <tr>\n",
       "      <th>max</th>\n",
       "      <td>1.000000</td>\n",
       "      <td>1.000000</td>\n",
       "      <td>76.000000</td>\n",
       "      <td>3.00000</td>\n",
       "      <td>309364.000000</td>\n",
       "      <td>2.000000</td>\n",
       "      <td>2.000000</td>\n",
       "    </tr>\n",
       "  </tbody>\n",
       "</table>\n",
       "</div>"
      ],
      "text/plain": [
       "               Sex  Marital status          Age   Education         Income  \\\n",
       "count  2000.000000     2000.000000  2000.000000  2000.00000    2000.000000   \n",
       "mean      0.457000        0.496500    35.909000     1.03800  120954.419000   \n",
       "std       0.498272        0.500113    11.719402     0.59978   38108.824679   \n",
       "min       0.000000        0.000000    18.000000     0.00000   35832.000000   \n",
       "25%       0.000000        0.000000    27.000000     1.00000   97663.250000   \n",
       "50%       0.000000        0.000000    33.000000     1.00000  115548.500000   \n",
       "75%       1.000000        1.000000    42.000000     1.00000  138072.250000   \n",
       "max       1.000000        1.000000    76.000000     3.00000  309364.000000   \n",
       "\n",
       "        Occupation  Settlement size  \n",
       "count  2000.000000      2000.000000  \n",
       "mean      0.810500         0.739000  \n",
       "std       0.638587         0.812533  \n",
       "min       0.000000         0.000000  \n",
       "25%       0.000000         0.000000  \n",
       "50%       1.000000         1.000000  \n",
       "75%       1.000000         1.000000  \n",
       "max       2.000000         2.000000  "
      ]
     },
     "execution_count": 5,
     "metadata": {},
     "output_type": "execute_result"
    }
   ],
   "source": [
    "demo_df.describe()"
   ]
  },
  {
   "cell_type": "code",
   "execution_count": 6,
   "metadata": {
    "scrolled": true
   },
   "outputs": [
    {
     "data": {
      "text/html": [
       "<div>\n",
       "<style scoped>\n",
       "    .dataframe tbody tr th:only-of-type {\n",
       "        vertical-align: middle;\n",
       "    }\n",
       "\n",
       "    .dataframe tbody tr th {\n",
       "        vertical-align: top;\n",
       "    }\n",
       "\n",
       "    .dataframe thead th {\n",
       "        text-align: right;\n",
       "    }\n",
       "</style>\n",
       "<table border=\"1\" class=\"dataframe\">\n",
       "  <thead>\n",
       "    <tr style=\"text-align: right;\">\n",
       "      <th></th>\n",
       "      <th>Sex</th>\n",
       "      <th>Marital status</th>\n",
       "      <th>Age</th>\n",
       "      <th>Education</th>\n",
       "      <th>Income</th>\n",
       "      <th>Occupation</th>\n",
       "      <th>Settlement size</th>\n",
       "    </tr>\n",
       "  </thead>\n",
       "  <tbody>\n",
       "    <tr>\n",
       "      <th>Sex</th>\n",
       "      <td>1.000000</td>\n",
       "      <td>0.566511</td>\n",
       "      <td>-0.182885</td>\n",
       "      <td>0.244838</td>\n",
       "      <td>-0.195146</td>\n",
       "      <td>-0.202491</td>\n",
       "      <td>-0.300803</td>\n",
       "    </tr>\n",
       "    <tr>\n",
       "      <th>Marital status</th>\n",
       "      <td>0.566511</td>\n",
       "      <td>1.000000</td>\n",
       "      <td>-0.213178</td>\n",
       "      <td>0.374017</td>\n",
       "      <td>-0.073528</td>\n",
       "      <td>-0.029490</td>\n",
       "      <td>-0.097041</td>\n",
       "    </tr>\n",
       "    <tr>\n",
       "      <th>Age</th>\n",
       "      <td>-0.182885</td>\n",
       "      <td>-0.213178</td>\n",
       "      <td>1.000000</td>\n",
       "      <td>0.654605</td>\n",
       "      <td>0.340610</td>\n",
       "      <td>0.108388</td>\n",
       "      <td>0.119751</td>\n",
       "    </tr>\n",
       "    <tr>\n",
       "      <th>Education</th>\n",
       "      <td>0.244838</td>\n",
       "      <td>0.374017</td>\n",
       "      <td>0.654605</td>\n",
       "      <td>1.000000</td>\n",
       "      <td>0.233459</td>\n",
       "      <td>0.064524</td>\n",
       "      <td>0.034732</td>\n",
       "    </tr>\n",
       "    <tr>\n",
       "      <th>Income</th>\n",
       "      <td>-0.195146</td>\n",
       "      <td>-0.073528</td>\n",
       "      <td>0.340610</td>\n",
       "      <td>0.233459</td>\n",
       "      <td>1.000000</td>\n",
       "      <td>0.680357</td>\n",
       "      <td>0.490881</td>\n",
       "    </tr>\n",
       "    <tr>\n",
       "      <th>Occupation</th>\n",
       "      <td>-0.202491</td>\n",
       "      <td>-0.029490</td>\n",
       "      <td>0.108388</td>\n",
       "      <td>0.064524</td>\n",
       "      <td>0.680357</td>\n",
       "      <td>1.000000</td>\n",
       "      <td>0.571795</td>\n",
       "    </tr>\n",
       "    <tr>\n",
       "      <th>Settlement size</th>\n",
       "      <td>-0.300803</td>\n",
       "      <td>-0.097041</td>\n",
       "      <td>0.119751</td>\n",
       "      <td>0.034732</td>\n",
       "      <td>0.490881</td>\n",
       "      <td>0.571795</td>\n",
       "      <td>1.000000</td>\n",
       "    </tr>\n",
       "  </tbody>\n",
       "</table>\n",
       "</div>"
      ],
      "text/plain": [
       "                      Sex  Marital status       Age  Education    Income  \\\n",
       "Sex              1.000000        0.566511 -0.182885   0.244838 -0.195146   \n",
       "Marital status   0.566511        1.000000 -0.213178   0.374017 -0.073528   \n",
       "Age             -0.182885       -0.213178  1.000000   0.654605  0.340610   \n",
       "Education        0.244838        0.374017  0.654605   1.000000  0.233459   \n",
       "Income          -0.195146       -0.073528  0.340610   0.233459  1.000000   \n",
       "Occupation      -0.202491       -0.029490  0.108388   0.064524  0.680357   \n",
       "Settlement size -0.300803       -0.097041  0.119751   0.034732  0.490881   \n",
       "\n",
       "                 Occupation  Settlement size  \n",
       "Sex               -0.202491        -0.300803  \n",
       "Marital status    -0.029490        -0.097041  \n",
       "Age                0.108388         0.119751  \n",
       "Education          0.064524         0.034732  \n",
       "Income             0.680357         0.490881  \n",
       "Occupation         1.000000         0.571795  \n",
       "Settlement size    0.571795         1.000000  "
      ]
     },
     "execution_count": 6,
     "metadata": {},
     "output_type": "execute_result"
    }
   ],
   "source": [
    "# Correlation Estimate - correlation describes the linear dependency between variables.\n",
    "demo_df.corr()"
   ]
  },
  {
   "cell_type": "code",
   "execution_count": 7,
   "metadata": {},
   "outputs": [
    {
     "data": {
      "image/png": "[encoded data removed]",
      "text/plain": [
       "<Figure size 720x432 with 2 Axes>"
      ]
     },
     "metadata": {},
     "output_type": "display_data"
    }
   ],
   "source": [
    "# Correlation in Heatmap form \n",
    "\n",
    "plt.figure(figsize=(10,6))\n",
    "s = sns.heatmap(demo_df.corr(), annot = True, cmap = 'RdBu', vmin = -1, vmax=1)\n",
    "# different color sets = 'viridis', 'autumn', 'rainbow'\n",
    "s.set_yticklabels(s.get_yticklabels(), rotation = 0, fontsize =12) \n",
    "s.set_xticklabels(s.get_xticklabels(), rotation = 90, fontsize =12) \n",
    "plt.title('Correlation Heatmap', fontsize =18)\n",
    "plt.show()"
   ]
  },
  {
   "cell_type": "markdown",
   "metadata": {},
   "source": [
    ">I plot the correlations using a Heat Map. We set the range from -1 to 1, as it is the range of the Pearson Correlation. We can visually recognize the strong positive correlation between age and education (r=0.65) or between occupation and income (r=0,68). Some other positive colour value such as the between occupation and settlement size are also observed. These relationships are required for segmentation process."
   ]
  },
  {
   "cell_type": "code",
   "execution_count": null,
   "metadata": {},
   "outputs": [],
   "source": []
  },
  {
   "cell_type": "code",
   "execution_count": null,
   "metadata": {
    "scrolled": false
   },
   "outputs": [],
   "source": [
    "plt.figure(figsize =(10, 6))\n",
    "sns.regplot(demo_df.iloc[:,2], demo_df.iloc[:,4])\n",
    "plt.xlabel('Age', fontsize = 13)\n",
    "plt.ylabel('Income', fontsize = 13)\n",
    "plt.title('Visualisation of Raw Data', fontsize = 15)"
   ]
  },
  {
   "cell_type": "markdown",
   "metadata": {},
   "source": [
    "> Among the demographic features, I plot the relationship between “Income” and “Age”. A scatter plot is appropriate since both are continuous. Intuitively, they have a positive relationship each other."
   ]
  },
  {
   "cell_type": "markdown",
   "metadata": {},
   "source": [
    "<a id='Analysis'></a>\n",
    "## 4. Data Analysis\n",
    "### 4.1. Customer Analysis\n",
    "\n",
    "- i. Standardisation \n",
    "- ii. Hierarchical Clustering\n",
    "- iii. K-means Clustering\n",
    "- iv. K-Means Clustering based on PCA (Principal Component Analysis)"
   ]
  },
  {
   "cell_type": "markdown",
   "metadata": {},
   "source": [
    "### i. Standardisation\n",
    "\n",
    "Clustering, especially k-mean clustering, is sensitive to the scales of feature values. Thus, all features should be transformed so that the values fall within the identical numerical range. By doing so, the differences between the values can be comparable. This is so-called as standardization. So, before clustering, I scaled the data."
   ]
  },
  {
   "cell_type": "code",
   "execution_count": 9,
   "metadata": {},
   "outputs": [],
   "source": [
    "from sklearn.preprocessing import StandardScaler "
   ]
  },
  {
   "cell_type": "code",
   "execution_count": 10,
   "metadata": {},
   "outputs": [],
   "source": [
    "scaler = StandardScaler()\n",
    "demo_scaled = scaler.fit_transform(demo_df)"
   ]
  },
  {
   "cell_type": "markdown",
   "metadata": {},
   "source": [
    "### ii. Hierarchical Clustering "
   ]
  },
  {
   "cell_type": "markdown",
   "metadata": {},
   "source": [
    "The purpose of clustering algorithms is to make groups based on each datapoint with similar features. Similarity of datapoints is determined by the distance between them, in a sense that similar datapoints have smaller the distance between points. <br>\n",
    "In hierarchical clustering algorithm, the datapoints further down in the tree are grouped together. A joint between 2 clusters is represented by a horizontal line linking 2 vertical lines. <br>\n",
    "To find clusters based on hierarchical clustering, we need to find a horizontal line in the “Dendrogram” to cut. Under the line, every vertical line will signal the beginning of a cluster, and all the leaves connected to the vertical line until the cut, will belong to a separate cluster.\n"
   ]
  },
  {
   "cell_type": "code",
   "execution_count": 11,
   "metadata": {},
   "outputs": [],
   "source": [
    "from scipy.cluster.hierarchy import dendrogram, linkage"
   ]
  },
  {
   "cell_type": "code",
   "execution_count": 12,
   "metadata": {},
   "outputs": [],
   "source": [
    "hier_clust = linkage(demo_scaled, method = 'ward')"
   ]
  },
  {
   "cell_type": "code",
   "execution_count": 13,
   "metadata": {},
   "outputs": [
    {
     "data": {
      "image/png": "[encoded data removed]",
      "text/plain": [
       "<Figure size 576x432 with 1 Axes>"
      ]
     },
     "metadata": {},
     "output_type": "display_data"
    }
   ],
   "source": [
    "plt.figure(figsize =(8,6))\n",
    "plt.title('Hierarchical Clustering Dendrogram', fontsize =20)\n",
    "plt.ylabel('Distance',  fontsize =13)\n",
    "plt.xlabel('Observations',  fontsize =13)\n",
    "dendrogram(hier_clust, show_leaf_counts =False,\n",
    "           truncate_mode = 'level', \n",
    "           p = 5, \n",
    "           no_labels = True, \n",
    "           # color_threshold = 0 : the clusters differrent color \n",
    "          )\n",
    "\n",
    "plt.show()"
   ]
  },
  {
   "cell_type": "markdown",
   "metadata": {},
   "source": [
    "> Although hierarchical clustering is not very practical, it finds the number of clusters in the data, quickly, when there is no prior knowledge about the number of clusters. This is the major advantage over other methods. For this reason, I performed hierarchical clustering first, to determine optimal number of clusters. \n",
    "In practice, we should find the longest vertical line, which is NOT intercepted by a horizontal line from the dendrogram. It seems that 4 clusters are the most appropriate. \n"
   ]
  },
  {
   "cell_type": "markdown",
   "metadata": {},
   "source": [
    "### iii. K-means Clustering "
   ]
  },
  {
   "cell_type": "code",
   "execution_count": 14,
   "metadata": {},
   "outputs": [],
   "source": [
    "# Import the relevant library\n",
    "from sklearn.cluster import KMeans"
   ]
  },
  {
   "cell_type": "markdown",
   "metadata": {},
   "source": [
    "### Diagonistics of the optimal number of cluster - Elbow Method\n",
    "\n",
    "> Like my other projects, I found the optimal number of clusters based on \"Elbow Method\". [See  Capstone Project](https://github.com/SooyeonWon/sales_forecasting_for_new_stores/blob/main/part2_sales_forecasts_for_new_stores.ipynb).  In this section, I compared the number of clusters based on the method with that of Hierarchical Clustering"
   ]
  },
  {
   "cell_type": "code",
   "execution_count": 15,
   "metadata": {},
   "outputs": [],
   "source": [
    "wcss = {}\n",
    "for i in range(1, 11): \n",
    "    kmeans = KMeans(n_clusters =i, init = 'k-means++', random_state= 42)\n",
    "    kmeans.fit(demo_scaled)\n",
    "    wcss[i] = kmeans.inertia_"
   ]
  },
  {
   "cell_type": "code",
   "execution_count": 16,
   "metadata": {},
   "outputs": [
    {
     "data": {
      "text/plain": [
       "Text(0.5, 1.0, 'K-means Clustering - Elbow Method')"
      ]
     },
     "execution_count": 16,
     "metadata": {},
     "output_type": "execute_result"
    },
    {
     "data": {
      "image/png": "[encoded data removed]",
      "text/plain": [
       "<Figure size 576x360 with 1 Axes>"
      ]
     },
     "metadata": {},
     "output_type": "display_data"
    }
   ],
   "source": [
    "# Elbow method\n",
    "plt.figure(figsize =(8,5))\n",
    "plt.plot(list(wcss.keys()), list(wcss.values()),  marker = 'o', linestyle = '--' )\n",
    "\n",
    "plt.xlabel('Number of Cluster', fontsize = 13)\n",
    "plt.ylabel('WCSS', fontsize = 13)\n",
    "plt.title('K-means Clustering - Elbow Method', fontsize = 15)"
   ]
  },
  {
   "cell_type": "code",
   "execution_count": 17,
   "metadata": {
    "scrolled": true
   },
   "outputs": [
    {
     "name": "stdout",
     "output_type": "stream",
     "text": [
      "The optimal number of clusters, suggested by Elbow criterion:  4\n"
     ]
    }
   ],
   "source": [
    "from kneed import KneeLocator\n",
    "x, y = list(wcss.keys()), list(wcss.values())\n",
    "kn = KneeLocator(x, y, curve='convex', direction='decreasing')\n",
    "print('The optimal number of clusters, suggested by Elbow criterion: ', kn.knee)"
   ]
  },
  {
   "cell_type": "markdown",
   "metadata": {},
   "source": [
    "> Both results are consistent. Therefore, I continue the K-Centroids Clustering Analysis with 4 number of clusters. "
   ]
  },
  {
   "cell_type": "markdown",
   "metadata": {},
   "source": [
    "####  K-Centroids Clustering Analysis"
   ]
  },
  {
   "cell_type": "code",
   "execution_count": 18,
   "metadata": {},
   "outputs": [],
   "source": [
    "kmeans =KMeans(n_clusters =4, max_iter = 500,  init = 'k-means++', random_state= 42)"
   ]
  },
  {
   "cell_type": "code",
   "execution_count": 19,
   "metadata": {
    "scrolled": true
   },
   "outputs": [
    {
     "data": {
      "text/plain": [
       "KMeans(max_iter=500, n_clusters=4, random_state=42)"
      ]
     },
     "execution_count": 19,
     "metadata": {},
     "output_type": "execute_result"
    }
   ],
   "source": [
    "kmeans.fit(demo_scaled)"
   ]
  },
  {
   "cell_type": "markdown",
   "metadata": {},
   "source": [
    "#### Results: K-means Clustering "
   ]
  },
  {
   "cell_type": "code",
   "execution_count": 20,
   "metadata": {},
   "outputs": [],
   "source": [
    "df_segm_kmeans = demo_df.copy()"
   ]
  },
  {
   "cell_type": "code",
   "execution_count": 21,
   "metadata": {},
   "outputs": [],
   "source": [
    "df_segm_kmeans['Segment_KMeans'] = kmeans.labels_\n",
    "df_segm_kmeans['Segment_KMeans'].replace({0: \"A\", 1: \"B\", 2: \"C\", 3:\"D\"}, inplace=True)"
   ]
  },
  {
   "cell_type": "code",
   "execution_count": 22,
   "metadata": {
    "scrolled": true
   },
   "outputs": [
    {
     "data": {
      "text/html": [
       "<div>\n",
       "<style scoped>\n",
       "    .dataframe tbody tr th:only-of-type {\n",
       "        vertical-align: middle;\n",
       "    }\n",
       "\n",
       "    .dataframe tbody tr th {\n",
       "        vertical-align: top;\n",
       "    }\n",
       "\n",
       "    .dataframe thead th {\n",
       "        text-align: right;\n",
       "    }\n",
       "</style>\n",
       "<table border=\"1\" class=\"dataframe\">\n",
       "  <thead>\n",
       "    <tr style=\"text-align: right;\">\n",
       "      <th></th>\n",
       "      <th>Sex</th>\n",
       "      <th>Marital status</th>\n",
       "      <th>Age</th>\n",
       "      <th>Education</th>\n",
       "      <th>Income</th>\n",
       "      <th>Occupation</th>\n",
       "      <th>Settlement size</th>\n",
       "    </tr>\n",
       "    <tr>\n",
       "      <th>Segment_KMeans</th>\n",
       "      <th></th>\n",
       "      <th></th>\n",
       "      <th></th>\n",
       "      <th></th>\n",
       "      <th></th>\n",
       "      <th></th>\n",
       "      <th></th>\n",
       "    </tr>\n",
       "  </thead>\n",
       "  <tbody>\n",
       "    <tr>\n",
       "      <th>A</th>\n",
       "      <td>0.501901</td>\n",
       "      <td>0.692015</td>\n",
       "      <td>55.703422</td>\n",
       "      <td>2.129278</td>\n",
       "      <td>158338.422053</td>\n",
       "      <td>1.129278</td>\n",
       "      <td>1.110266</td>\n",
       "    </tr>\n",
       "    <tr>\n",
       "      <th>B</th>\n",
       "      <td>0.352814</td>\n",
       "      <td>0.019481</td>\n",
       "      <td>35.577922</td>\n",
       "      <td>0.746753</td>\n",
       "      <td>97859.852814</td>\n",
       "      <td>0.329004</td>\n",
       "      <td>0.043290</td>\n",
       "    </tr>\n",
       "    <tr>\n",
       "      <th>C</th>\n",
       "      <td>0.029825</td>\n",
       "      <td>0.173684</td>\n",
       "      <td>35.635088</td>\n",
       "      <td>0.733333</td>\n",
       "      <td>141218.249123</td>\n",
       "      <td>1.271930</td>\n",
       "      <td>1.522807</td>\n",
       "    </tr>\n",
       "    <tr>\n",
       "      <th>D</th>\n",
       "      <td>0.853901</td>\n",
       "      <td>0.997163</td>\n",
       "      <td>28.963121</td>\n",
       "      <td>1.068085</td>\n",
       "      <td>105759.119149</td>\n",
       "      <td>0.634043</td>\n",
       "      <td>0.422695</td>\n",
       "    </tr>\n",
       "  </tbody>\n",
       "</table>\n",
       "</div>"
      ],
      "text/plain": [
       "                     Sex  Marital status        Age  Education         Income  \\\n",
       "Segment_KMeans                                                                  \n",
       "A               0.501901        0.692015  55.703422   2.129278  158338.422053   \n",
       "B               0.352814        0.019481  35.577922   0.746753   97859.852814   \n",
       "C               0.029825        0.173684  35.635088   0.733333  141218.249123   \n",
       "D               0.853901        0.997163  28.963121   1.068085  105759.119149   \n",
       "\n",
       "                Occupation  Settlement size  \n",
       "Segment_KMeans                               \n",
       "A                 1.129278         1.110266  \n",
       "B                 0.329004         0.043290  \n",
       "C                 1.271930         1.522807  \n",
       "D                 0.634043         0.422695  "
      ]
     },
     "execution_count": 22,
     "metadata": {},
     "output_type": "execute_result"
    }
   ],
   "source": [
    "df_segm_analysis = df_segm_kmeans.groupby(['Segment_KMeans']).mean()\n",
    "df_segm_analysis"
   ]
  },
  {
   "cell_type": "code",
   "execution_count": 23,
   "metadata": {},
   "outputs": [
    {
     "data": {
      "text/html": [
       "<div>\n",
       "<style scoped>\n",
       "    .dataframe tbody tr th:only-of-type {\n",
       "        vertical-align: middle;\n",
       "    }\n",
       "\n",
       "    .dataframe tbody tr th {\n",
       "        vertical-align: top;\n",
       "    }\n",
       "\n",
       "    .dataframe thead th {\n",
       "        text-align: right;\n",
       "    }\n",
       "</style>\n",
       "<table border=\"1\" class=\"dataframe\">\n",
       "  <thead>\n",
       "    <tr style=\"text-align: right;\">\n",
       "      <th></th>\n",
       "      <th>Sex</th>\n",
       "      <th>Marital status</th>\n",
       "      <th>Age</th>\n",
       "      <th>Education</th>\n",
       "      <th>Income</th>\n",
       "      <th>Occupation</th>\n",
       "      <th>Settlement size</th>\n",
       "      <th>N_Obs</th>\n",
       "      <th>Prop_Obs</th>\n",
       "    </tr>\n",
       "    <tr>\n",
       "      <th>Segment_KMeans</th>\n",
       "      <th></th>\n",
       "      <th></th>\n",
       "      <th></th>\n",
       "      <th></th>\n",
       "      <th></th>\n",
       "      <th></th>\n",
       "      <th></th>\n",
       "      <th></th>\n",
       "      <th></th>\n",
       "    </tr>\n",
       "  </thead>\n",
       "  <tbody>\n",
       "    <tr>\n",
       "      <th>A</th>\n",
       "      <td>0.501901</td>\n",
       "      <td>0.692015</td>\n",
       "      <td>55.703422</td>\n",
       "      <td>2.129278</td>\n",
       "      <td>158338.422053</td>\n",
       "      <td>1.129278</td>\n",
       "      <td>1.110266</td>\n",
       "      <td>263</td>\n",
       "      <td>0.1315</td>\n",
       "    </tr>\n",
       "    <tr>\n",
       "      <th>B</th>\n",
       "      <td>0.352814</td>\n",
       "      <td>0.019481</td>\n",
       "      <td>35.577922</td>\n",
       "      <td>0.746753</td>\n",
       "      <td>97859.852814</td>\n",
       "      <td>0.329004</td>\n",
       "      <td>0.043290</td>\n",
       "      <td>462</td>\n",
       "      <td>0.2310</td>\n",
       "    </tr>\n",
       "    <tr>\n",
       "      <th>C</th>\n",
       "      <td>0.029825</td>\n",
       "      <td>0.173684</td>\n",
       "      <td>35.635088</td>\n",
       "      <td>0.733333</td>\n",
       "      <td>141218.249123</td>\n",
       "      <td>1.271930</td>\n",
       "      <td>1.522807</td>\n",
       "      <td>570</td>\n",
       "      <td>0.2850</td>\n",
       "    </tr>\n",
       "    <tr>\n",
       "      <th>D</th>\n",
       "      <td>0.853901</td>\n",
       "      <td>0.997163</td>\n",
       "      <td>28.963121</td>\n",
       "      <td>1.068085</td>\n",
       "      <td>105759.119149</td>\n",
       "      <td>0.634043</td>\n",
       "      <td>0.422695</td>\n",
       "      <td>705</td>\n",
       "      <td>0.3525</td>\n",
       "    </tr>\n",
       "  </tbody>\n",
       "</table>\n",
       "</div>"
      ],
      "text/plain": [
       "                     Sex  Marital status        Age  Education         Income  \\\n",
       "Segment_KMeans                                                                  \n",
       "A               0.501901        0.692015  55.703422   2.129278  158338.422053   \n",
       "B               0.352814        0.019481  35.577922   0.746753   97859.852814   \n",
       "C               0.029825        0.173684  35.635088   0.733333  141218.249123   \n",
       "D               0.853901        0.997163  28.963121   1.068085  105759.119149   \n",
       "\n",
       "                Occupation  Settlement size  N_Obs  Prop_Obs  \n",
       "Segment_KMeans                                                \n",
       "A                 1.129278         1.110266    263    0.1315  \n",
       "B                 0.329004         0.043290    462    0.2310  \n",
       "C                 1.271930         1.522807    570    0.2850  \n",
       "D                 0.634043         0.422695    705    0.3525  "
      ]
     },
     "execution_count": 23,
     "metadata": {},
     "output_type": "execute_result"
    }
   ],
   "source": [
    "# Compute the size and proportions of the four clusters\n",
    "df_segm_analysis['N_Obs'] = df_segm_kmeans[['Segment_KMeans', 'Sex']].groupby(['Segment_KMeans'])['Sex'].count()\n",
    "df_segm_analysis['Prop_Obs'] = df_segm_analysis.N_Obs / df_segm_analysis.N_Obs.sum()\n",
    "df_segm_analysis"
   ]
  },
  {
   "cell_type": "markdown",
   "metadata": {},
   "source": [
    "> **Qualitative Analysis of each cluster:** Now, we can analyse the four groups based on the demographic information. \n",
    ">- The **Segment A** is composed of men and women almost equally with an average age of 55.7. This is the oldest segment. Almost 70% of customers in Segment A are in relationships and they also have the highest level of education as well as the highest income. This segment can be named as **\"Well_Off\"** individuals. \n",
    ">- Two thirds of people in **Segment B** are male and almost all are single. Their average age is 36 years. Their education level is low on average compared to other segments in terms of salary and jobs.  This segment has the lowest values under 100,000 for annual salary. Also, they live almost exclusively in small cities. These people are considered as people in their thirties with a relatively low income living in small cities. This segment of people can be named as **\"Fewer_Opportunities\"**.\n",
    ">- **Segment C** is comprised almost entirely of men. Less than 20 percent of whom are in relationships. Looking at the numbers we observe relatively low values for education paired with high values for income and occupation. Most of this segment lives in big or middle-sized cities. It appears people in this segment are **\"Career_Oriented\"**.\n",
    ">- Individuals in the **Segment D** are in relationships with an average age of 29. This is the youngest segment. They have a medium level of education average income and middle management jobs. They seem equally distributed between small mid-sized and big cities. So, they seem average in just about every parameter. We can label the segment average or **\"Standard\"**.\n"
   ]
  },
  {
   "cell_type": "code",
   "execution_count": 24,
   "metadata": {},
   "outputs": [],
   "source": [
    "df_segm_analysis.rename({'A':'well_off', 'B': 'fewer_opportunities', \n",
    "                         'C': 'career_oriented', 'D': 'standard' }, inplace =True)"
   ]
  },
  {
   "cell_type": "code",
   "execution_count": 25,
   "metadata": {},
   "outputs": [],
   "source": [
    "df_segm_kmeans['Labels']  = df_segm_kmeans['Segment_KMeans'].map({'A':'well_off', 'B': 'fewer_opportunities', \n",
    "                         'C': 'career_oriented', 'D': 'standard' })"
   ]
  },
  {
   "cell_type": "code",
   "execution_count": null,
   "metadata": {
    "scrolled": false
   },
   "outputs": [],
   "source": [
    "x_axis = df_segm_kmeans['Age']\n",
    "y_axis = df_segm_kmeans['Income']\n",
    "plt.figure(figsize = (10,8))\n",
    "sns.scatterplot(x_axis, y_axis, hue = df_segm_kmeans.Labels, palette = ['g', 'r', 'c', 'm'])\n",
    "plt.title('Segmentation K-means',fontsize = 15)\n",
    "plt.legend( bbox_to_anchor = (1, 0.5), loc = 6)\n",
    "plt.show()"
   ]
  },
  {
   "cell_type": "markdown",
   "metadata": {},
   "source": [
    "> The green segment well-off is clearly separated as it is highest in both age and income. The other three clusters are overlapped, so it is harder to get more insights just by looking at the plot. To get a clearer result I combined k-means with principal component analysis (PCA)."
   ]
  },
  {
   "cell_type": "markdown",
   "metadata": {},
   "source": [
    "### iv. K-Means Clustering based on Principal Component Analysis(PCA)\n",
    "\n",
    "PCA is one of the popular methods for linear dimensionality reduction using Singular Value Decomposition of the data to project it to a lower dimensional space. [Reference](https://scikit-learn.org/stable/modules/generated/sklearn.decomposition.PCA.html)"
   ]
  },
  {
   "cell_type": "code",
   "execution_count": 27,
   "metadata": {},
   "outputs": [],
   "source": [
    "from sklearn.decomposition import PCA "
   ]
  },
  {
   "cell_type": "code",
   "execution_count": 28,
   "metadata": {},
   "outputs": [
    {
     "data": {
      "text/plain": [
       "PCA()"
      ]
     },
     "execution_count": 28,
     "metadata": {},
     "output_type": "execute_result"
    }
   ],
   "source": [
    "pca = PCA() # So let the PCA variable be an instance of the PCA class.\n",
    "pca.fit(demo_scaled)"
   ]
  },
  {
   "cell_type": "code",
   "execution_count": 29,
   "metadata": {},
   "outputs": [
    {
     "data": {
      "text/plain": [
       "array([0.35696328, 0.26250923, 0.18821114, 0.0755775 , 0.05716512,\n",
       "       0.03954794, 0.02002579])"
      ]
     },
     "execution_count": 29,
     "metadata": {},
     "output_type": "execute_result"
    }
   ],
   "source": [
    "# Explained variance proportion of each component.\n",
    "pca.explained_variance_ratio_"
   ]
  },
  {
   "cell_type": "markdown",
   "metadata": {},
   "source": [
    "> Components are listed in order of importance. Importance means how much of the variance of the fitted data is explained by each component. There are seven components in essence PCA, by applying a linear transformation on the data which created 7 new variables.  All the 7 components explain 100 percent of the variability of the data. The first component explains around 35,7 percent of the whole variability of the data. The second one 26 percent. I visualised the outputs using a cumulative plot as follows."
   ]
  },
  {
   "cell_type": "code",
   "execution_count": 30,
   "metadata": {},
   "outputs": [
    {
     "data": {
      "text/plain": [
       "Text(0, 0.5, 'Cumulative Explained Variance')"
      ]
     },
     "execution_count": 30,
     "metadata": {},
     "output_type": "execute_result"
    },
    {
     "data": {
      "image/png": "[encoded data removed]",
      "text/plain": [
       "<Figure size 576x360 with 1 Axes>"
      ]
     },
     "metadata": {},
     "output_type": "display_data"
    }
   ],
   "source": [
    "plt.figure(figsize =(8,5))\n",
    "plt.plot(range(1,8), pca.explained_variance_ratio_.cumsum(), marker = 'o', linestyle = '--')\n",
    "plt.title('Explained Variance by Components (with PCA) ', fontsize= 15)\n",
    "plt.xlabel('Number of Components', fontsize= 15)\n",
    "plt.ylabel('Cumulative Explained Variance', fontsize= 15)"
   ]
  },
  {
   "cell_type": "markdown",
   "metadata": {},
   "source": [
    "> Although we could take all 7 components to earn 100 percent of the information. However, then we cannot take advantages of PCA, which is to reduce the dimensionality of features. Rule of thumb is to keep at least 70 to 80 percent of the explained variance. According to the plot, 3 components will keep almost 80 percent of the initial variability."
   ]
  },
  {
   "cell_type": "code",
   "execution_count": 31,
   "metadata": {
    "scrolled": true
   },
   "outputs": [
    {
     "data": {
      "text/plain": [
       "PCA(n_components=3)"
      ]
     },
     "execution_count": 31,
     "metadata": {},
     "output_type": "execute_result"
    }
   ],
   "source": [
    "pca= PCA(n_components =3)\n",
    "pca.fit(demo_scaled)"
   ]
  },
  {
   "cell_type": "markdown",
   "metadata": {},
   "source": [
    "###  Results: K-Means Clustering with PCA"
   ]
  },
  {
   "cell_type": "code",
   "execution_count": 32,
   "metadata": {},
   "outputs": [
    {
     "data": {
      "text/plain": [
       "array([[-0.31469524, -0.19170439,  0.32609979,  0.15684089,  0.52452463,\n",
       "         0.49205868,  0.46478852],\n",
       "       [ 0.45800608,  0.51263492,  0.31220793,  0.63980683,  0.12468314,\n",
       "         0.01465779, -0.06963165],\n",
       "       [-0.29301261, -0.44197739,  0.60954372,  0.27560461, -0.16566231,\n",
       "        -0.39550539, -0.29568503]])"
      ]
     },
     "execution_count": 32,
     "metadata": {},
     "output_type": "execute_result"
    }
   ],
   "source": [
    "# We can obtain more information about the three components with the help of the components attribute of PCA.\n",
    "pca.components_"
   ]
  },
  {
   "cell_type": "markdown",
   "metadata": {},
   "source": [
    "> Using PCA, we reduced the initial 7 features to 3 components. This explains the shape the values themselves show the so-called “Loadings”. Loadings are correlation between an original variable and a component. For instance, the first value of the array shows the loading of the first feature on the first component."
   ]
  },
  {
   "cell_type": "code",
   "execution_count": 33,
   "metadata": {
    "scrolled": true
   },
   "outputs": [
    {
     "data": {
      "text/html": [
       "<div>\n",
       "<style scoped>\n",
       "    .dataframe tbody tr th:only-of-type {\n",
       "        vertical-align: middle;\n",
       "    }\n",
       "\n",
       "    .dataframe tbody tr th {\n",
       "        vertical-align: top;\n",
       "    }\n",
       "\n",
       "    .dataframe thead th {\n",
       "        text-align: right;\n",
       "    }\n",
       "</style>\n",
       "<table border=\"1\" class=\"dataframe\">\n",
       "  <thead>\n",
       "    <tr style=\"text-align: right;\">\n",
       "      <th></th>\n",
       "      <th>Sex</th>\n",
       "      <th>Marital status</th>\n",
       "      <th>Age</th>\n",
       "      <th>Education</th>\n",
       "      <th>Income</th>\n",
       "      <th>Occupation</th>\n",
       "      <th>Settlement size</th>\n",
       "    </tr>\n",
       "  </thead>\n",
       "  <tbody>\n",
       "    <tr>\n",
       "      <th>component_1</th>\n",
       "      <td>-0.314695</td>\n",
       "      <td>-0.191704</td>\n",
       "      <td>0.326100</td>\n",
       "      <td>0.156841</td>\n",
       "      <td>0.524525</td>\n",
       "      <td>0.492059</td>\n",
       "      <td>0.464789</td>\n",
       "    </tr>\n",
       "    <tr>\n",
       "      <th>component_2</th>\n",
       "      <td>0.458006</td>\n",
       "      <td>0.512635</td>\n",
       "      <td>0.312208</td>\n",
       "      <td>0.639807</td>\n",
       "      <td>0.124683</td>\n",
       "      <td>0.014658</td>\n",
       "      <td>-0.069632</td>\n",
       "    </tr>\n",
       "    <tr>\n",
       "      <th>component_3</th>\n",
       "      <td>-0.293013</td>\n",
       "      <td>-0.441977</td>\n",
       "      <td>0.609544</td>\n",
       "      <td>0.275605</td>\n",
       "      <td>-0.165662</td>\n",
       "      <td>-0.395505</td>\n",
       "      <td>-0.295685</td>\n",
       "    </tr>\n",
       "  </tbody>\n",
       "</table>\n",
       "</div>"
      ],
      "text/plain": [
       "                  Sex  Marital status       Age  Education    Income  \\\n",
       "component_1 -0.314695       -0.191704  0.326100   0.156841  0.524525   \n",
       "component_2  0.458006        0.512635  0.312208   0.639807  0.124683   \n",
       "component_3 -0.293013       -0.441977  0.609544   0.275605 -0.165662   \n",
       "\n",
       "             Occupation  Settlement size  \n",
       "component_1    0.492059         0.464789  \n",
       "component_2    0.014658        -0.069632  \n",
       "component_3   -0.395505        -0.295685  "
      ]
     },
     "execution_count": 33,
     "metadata": {},
     "output_type": "execute_result"
    }
   ],
   "source": [
    "df_pca_comp = pd.DataFrame(data = pca.components_, columns =demo_df.columns.values, \n",
    "                          index = ['component_1', 'component_2', 'component_3'])\n",
    "df_pca_comp"
   ]
  },
  {
   "cell_type": "markdown",
   "metadata": {},
   "source": [
    "> Note that all fitted values are between [-1, 1], since the values are basically correlations , meaning that the closer a result is to 0 the lower the loading of a variable onto a component."
   ]
  },
  {
   "cell_type": "code",
   "execution_count": 34,
   "metadata": {},
   "outputs": [
    {
     "data": {
      "text/plain": [
       "Text(0.5, 1.0, 'Loadings')"
      ]
     },
     "execution_count": 34,
     "metadata": {},
     "output_type": "execute_result"
    },
    {
     "data": {
      "image/png": "[encoded data removed]",
      "text/plain": [
       "<Figure size 576x288 with 2 Axes>"
      ]
     },
     "metadata": {},
     "output_type": "display_data"
    }
   ],
   "source": [
    "plt.figure(figsize=(8,4))\n",
    "sns.heatmap(df_pca_comp, vmin = -1, vmax = 1, cmap = 'RdBu', annot = True)\n",
    "plt.yticks([0,1,2], ['component_1', 'component_2', 'component_3'],rotation = 0, fontsize = 15 )\n",
    "plt.title('Loadings',  fontsize = 15 )"
   ]
  },
  {
   "cell_type": "markdown",
   "metadata": {},
   "source": [
    ">- Component 1: There is a positive correlation between component 1 and age, income, occupation. and settlement size. These features are all strictly related to the career of a person. So, this component seems to show the career focused. \n",
    ">- Component 2: It does not show a clear picture. Sex, marital status, and education are by far the most prominent determinants. On the other hand, all career related features are almost uncorrelated with it. For this reason, this component does not refer to the career, but rather to an individual's education and lifestyle. \n",
    ">- Component 3: Age, marital status and occupation are the most important determinants. Marital status and occupation load negatively but are still important, because I determine the importance of the individual loadings with respect to their absolute values. So the three important aspects of the last component can indicate the experienced person has no matter if work experience or life experience.\n",
    "\n",
    "\n",
    "> So far, we got several ideas about what the components represent and how is the initial data related to these new features. The original data refers to the original 7 features. Therefore, it is 7 dimensional. We should transform it into 3 dimensionals.\n"
   ]
  },
  {
   "cell_type": "code",
   "execution_count": 35,
   "metadata": {},
   "outputs": [
    {
     "data": {
      "text/plain": [
       "array([[ 2.51474593,  0.83412239,  2.1748059 ],\n",
       "       [ 0.34493528,  0.59814564, -2.21160279],\n",
       "       [-0.65106267, -0.68009318,  2.2804186 ],\n",
       "       ...,\n",
       "       [-1.45229829, -2.23593665,  0.89657125],\n",
       "       [-2.24145254,  0.62710847, -0.53045631],\n",
       "       [-1.86688505, -2.45467234,  0.66262172]])"
      ]
     },
     "execution_count": 35,
     "metadata": {},
     "output_type": "execute_result"
    }
   ],
   "source": [
    "scores_pca = pca.transform(demo_scaled)\n",
    "scores_pca"
   ]
  },
  {
   "cell_type": "markdown",
   "metadata": {},
   "source": [
    "> After transforming the data, the result is a new array where each observation is described by the 3 components. That is why there are only 3 columns one for each of the new features. These new values are called PCA scores."
   ]
  },
  {
   "cell_type": "markdown",
   "metadata": {},
   "source": [
    "### K means with PCA \n",
    "#### Diagonistics of the optimal number of cluster - Elbow Method"
   ]
  },
  {
   "cell_type": "code",
   "execution_count": 36,
   "metadata": {},
   "outputs": [],
   "source": [
    "wcss_pca =  {}\n",
    "for i in range(1, 11): \n",
    "    kmeans_pca = KMeans(n_clusters =i, init = 'k-means++', random_state= 42)\n",
    "    kmeans_pca.fit(scores_pca) # Note that the component scores are standardized by definition\n",
    "    wcss_pca[i] = kmeans_pca.inertia_ "
   ]
  },
  {
   "cell_type": "code",
   "execution_count": 37,
   "metadata": {},
   "outputs": [
    {
     "data": {
      "text/plain": [
       "Text(0.5, 1.0, 'K-means Clustering with PCA clustering')"
      ]
     },
     "execution_count": 37,
     "metadata": {},
     "output_type": "execute_result"
    },
    {
     "data": {
      "image/png": "[encoded data removed]",
      "text/plain": [
       "<Figure size 576x360 with 1 Axes>"
      ]
     },
     "metadata": {},
     "output_type": "display_data"
    }
   ],
   "source": [
    "# Elbow method\n",
    "plt.figure(figsize =(8,5))\n",
    "plt.plot(list(wcss_pca.keys()), list(wcss_pca.values()),  marker = 'o', linestyle = '--' )\n",
    "\n",
    "plt.xlabel('Number of Cluster', fontsize = 13)\n",
    "plt.ylabel('WCSS (PCA)', fontsize = 13)\n",
    "plt.title('K-means Clustering with PCA clustering', fontsize = 15)"
   ]
  },
  {
   "cell_type": "code",
   "execution_count": 38,
   "metadata": {},
   "outputs": [
    {
     "name": "stdout",
     "output_type": "stream",
     "text": [
      "The optimal number of clusters, suggested by Elbow criterion:  4\n"
     ]
    }
   ],
   "source": [
    "x, y = list(wcss_pca.keys()), list(wcss_pca.values())\n",
    "kn = KneeLocator(x, y, curve='convex', direction='decreasing')\n",
    "print('The optimal number of clusters, suggested by Elbow criterion: ', kn.knee)"
   ]
  },
  {
   "cell_type": "code",
   "execution_count": 39,
   "metadata": {},
   "outputs": [
    {
     "data": {
      "text/plain": [
       "KMeans(n_clusters=4, random_state=42)"
      ]
     },
     "execution_count": 39,
     "metadata": {},
     "output_type": "execute_result"
    }
   ],
   "source": [
    "kmeans_pca = KMeans(n_clusters =4, init = 'k-means++', random_state = 42)\n",
    "kmeans_pca.fit(scores_pca)"
   ]
  },
  {
   "cell_type": "markdown",
   "metadata": {},
   "source": [
    "#### K means with PCA Results"
   ]
  },
  {
   "cell_type": "code",
   "execution_count": 40,
   "metadata": {},
   "outputs": [],
   "source": [
    "df_seg_pca_kmeans = pd.concat([demo_df.reset_index(drop = True), pd.DataFrame(scores_pca)], axis =1)\n",
    "df_seg_pca_kmeans.columns.values[-3:] =  ['component_1', 'component_2', 'component_3']\n",
    "df_seg_pca_kmeans['Segment_KMeans_PCA'] = kmeans_pca.labels_\n",
    "df_seg_pca_kmeans['Segment_KMeans_PCA'].replace({0: \"W\", 1: \"X\", 2: \"Y\", 3:\"Z\"}, inplace=True)"
   ]
  },
  {
   "cell_type": "code",
   "execution_count": 41,
   "metadata": {},
   "outputs": [
    {
     "data": {
      "text/html": [
       "<div>\n",
       "<style scoped>\n",
       "    .dataframe tbody tr th:only-of-type {\n",
       "        vertical-align: middle;\n",
       "    }\n",
       "\n",
       "    .dataframe tbody tr th {\n",
       "        vertical-align: top;\n",
       "    }\n",
       "\n",
       "    .dataframe thead th {\n",
       "        text-align: right;\n",
       "    }\n",
       "</style>\n",
       "<table border=\"1\" class=\"dataframe\">\n",
       "  <thead>\n",
       "    <tr style=\"text-align: right;\">\n",
       "      <th></th>\n",
       "      <th>Sex</th>\n",
       "      <th>Marital status</th>\n",
       "      <th>Age</th>\n",
       "      <th>Education</th>\n",
       "      <th>Income</th>\n",
       "      <th>Occupation</th>\n",
       "      <th>Settlement size</th>\n",
       "      <th>component_1</th>\n",
       "      <th>component_2</th>\n",
       "      <th>component_3</th>\n",
       "      <th>N_Obs</th>\n",
       "      <th>Prop_Obs</th>\n",
       "    </tr>\n",
       "    <tr>\n",
       "      <th>Segment_KMeans_PCA</th>\n",
       "      <th></th>\n",
       "      <th></th>\n",
       "      <th></th>\n",
       "      <th></th>\n",
       "      <th></th>\n",
       "      <th></th>\n",
       "      <th></th>\n",
       "      <th></th>\n",
       "      <th></th>\n",
       "      <th></th>\n",
       "      <th></th>\n",
       "      <th></th>\n",
       "    </tr>\n",
       "  </thead>\n",
       "  <tbody>\n",
       "    <tr>\n",
       "      <th>W</th>\n",
       "      <td>0.307190</td>\n",
       "      <td>0.098039</td>\n",
       "      <td>35.383442</td>\n",
       "      <td>0.766885</td>\n",
       "      <td>93566.102397</td>\n",
       "      <td>0.248366</td>\n",
       "      <td>0.039216</td>\n",
       "      <td>-1.048838</td>\n",
       "      <td>-0.892116</td>\n",
       "      <td>1.010446</td>\n",
       "      <td>459</td>\n",
       "      <td>0.2295</td>\n",
       "    </tr>\n",
       "    <tr>\n",
       "      <th>X</th>\n",
       "      <td>0.027350</td>\n",
       "      <td>0.167521</td>\n",
       "      <td>35.700855</td>\n",
       "      <td>0.731624</td>\n",
       "      <td>141489.721368</td>\n",
       "      <td>1.266667</td>\n",
       "      <td>1.475214</td>\n",
       "      <td>1.367167</td>\n",
       "      <td>-1.050209</td>\n",
       "      <td>-0.247981</td>\n",
       "      <td>585</td>\n",
       "      <td>0.2925</td>\n",
       "    </tr>\n",
       "    <tr>\n",
       "      <th>Y</th>\n",
       "      <td>0.900433</td>\n",
       "      <td>0.965368</td>\n",
       "      <td>28.913420</td>\n",
       "      <td>1.062049</td>\n",
       "      <td>107551.946609</td>\n",
       "      <td>0.676768</td>\n",
       "      <td>0.440115</td>\n",
       "      <td>-1.106918</td>\n",
       "      <td>0.706367</td>\n",
       "      <td>-0.778269</td>\n",
       "      <td>693</td>\n",
       "      <td>0.3465</td>\n",
       "    </tr>\n",
       "    <tr>\n",
       "      <th>Z</th>\n",
       "      <td>0.505703</td>\n",
       "      <td>0.688213</td>\n",
       "      <td>55.722433</td>\n",
       "      <td>2.129278</td>\n",
       "      <td>158391.676806</td>\n",
       "      <td>1.129278</td>\n",
       "      <td>1.110266</td>\n",
       "      <td>1.706153</td>\n",
       "      <td>2.031716</td>\n",
       "      <td>0.838839</td>\n",
       "      <td>263</td>\n",
       "      <td>0.1315</td>\n",
       "    </tr>\n",
       "  </tbody>\n",
       "</table>\n",
       "</div>"
      ],
      "text/plain": [
       "                         Sex  Marital status        Age  Education  \\\n",
       "Segment_KMeans_PCA                                                   \n",
       "W                   0.307190        0.098039  35.383442   0.766885   \n",
       "X                   0.027350        0.167521  35.700855   0.731624   \n",
       "Y                   0.900433        0.965368  28.913420   1.062049   \n",
       "Z                   0.505703        0.688213  55.722433   2.129278   \n",
       "\n",
       "                           Income  Occupation  Settlement size  component_1  \\\n",
       "Segment_KMeans_PCA                                                            \n",
       "W                    93566.102397    0.248366         0.039216    -1.048838   \n",
       "X                   141489.721368    1.266667         1.475214     1.367167   \n",
       "Y                   107551.946609    0.676768         0.440115    -1.106918   \n",
       "Z                   158391.676806    1.129278         1.110266     1.706153   \n",
       "\n",
       "                    component_2  component_3  N_Obs  Prop_Obs  \n",
       "Segment_KMeans_PCA                                             \n",
       "W                     -0.892116     1.010446    459    0.2295  \n",
       "X                     -1.050209    -0.247981    585    0.2925  \n",
       "Y                      0.706367    -0.778269    693    0.3465  \n",
       "Z                      2.031716     0.838839    263    0.1315  "
      ]
     },
     "execution_count": 41,
     "metadata": {},
     "output_type": "execute_result"
    }
   ],
   "source": [
    "df_seg_pca_kmeans_freq = df_seg_pca_kmeans.groupby(['Segment_KMeans_PCA']).mean()\n",
    "df_seg_pca_kmeans_freq['N_Obs'] = df_seg_pca_kmeans[['Segment_KMeans_PCA', 'Sex']].groupby(['Segment_KMeans_PCA'])['Sex'].count()\n",
    "df_seg_pca_kmeans_freq['Prop_Obs'] = df_seg_pca_kmeans_freq.N_Obs / df_seg_pca_kmeans_freq.N_Obs.sum()\n",
    "df_seg_pca_kmeans_freq"
   ]
  },
  {
   "cell_type": "markdown",
   "metadata": {},
   "source": [
    "> **Qualitative interpretation:**\n",
    ">- Components: <br>\n",
    "Previously, we evaluated that the first component was related to career. The second component is to education and lifestyle, while the third to their life and or work experience.\n",
    ">- Clusters: <br>\n",
    "    **Segment W** has low value on the first and second component, but it has a high value on the third component. In other words, this segment has low career and experience values while normal to high education and lifestyle values. This is the cluster, labelled \"Standard\" previously. <br>\n",
    "    **Segment X** shows high values for career but low for education and lifestyle. And as someone independent from experience. It seems to be a \"Career_Oriented\" segment. <br>\n",
    "    **Segment Y** shows the lowest average PCA scores for a career and work experience It seems that this is the youngest cluster labelled  \"Fewer_Opportunities\" previously. has low career and experience values while normal to high education and lifestyle values. <br>\n",
    "    **Segment Z** is the highest on component_1 and component_2. Also, Segment Z is highest on all three components: career, education and lifestyle and experience. It can be matched to \"Well-Off\" segment. <br>\n"
   ]
  },
  {
   "cell_type": "code",
   "execution_count": 42,
   "metadata": {},
   "outputs": [
    {
     "data": {
      "text/html": [
       "<div>\n",
       "<style scoped>\n",
       "    .dataframe tbody tr th:only-of-type {\n",
       "        vertical-align: middle;\n",
       "    }\n",
       "\n",
       "    .dataframe tbody tr th {\n",
       "        vertical-align: top;\n",
       "    }\n",
       "\n",
       "    .dataframe thead th {\n",
       "        text-align: right;\n",
       "    }\n",
       "</style>\n",
       "<table border=\"1\" class=\"dataframe\">\n",
       "  <thead>\n",
       "    <tr style=\"text-align: right;\">\n",
       "      <th></th>\n",
       "      <th>Sex</th>\n",
       "      <th>Marital status</th>\n",
       "      <th>Age</th>\n",
       "      <th>Education</th>\n",
       "      <th>Income</th>\n",
       "      <th>Occupation</th>\n",
       "      <th>Settlement size</th>\n",
       "      <th>component_1</th>\n",
       "      <th>component_2</th>\n",
       "      <th>component_3</th>\n",
       "      <th>N_Obs</th>\n",
       "      <th>Prop_Obs</th>\n",
       "    </tr>\n",
       "    <tr>\n",
       "      <th>Segment_KMeans_PCA</th>\n",
       "      <th></th>\n",
       "      <th></th>\n",
       "      <th></th>\n",
       "      <th></th>\n",
       "      <th></th>\n",
       "      <th></th>\n",
       "      <th></th>\n",
       "      <th></th>\n",
       "      <th></th>\n",
       "      <th></th>\n",
       "      <th></th>\n",
       "      <th></th>\n",
       "    </tr>\n",
       "  </thead>\n",
       "  <tbody>\n",
       "    <tr>\n",
       "      <th>standard</th>\n",
       "      <td>0.307190</td>\n",
       "      <td>0.098039</td>\n",
       "      <td>35.383442</td>\n",
       "      <td>0.766885</td>\n",
       "      <td>93566.102397</td>\n",
       "      <td>0.248366</td>\n",
       "      <td>0.039216</td>\n",
       "      <td>-1.048838</td>\n",
       "      <td>-0.892116</td>\n",
       "      <td>1.010446</td>\n",
       "      <td>459</td>\n",
       "      <td>0.2295</td>\n",
       "    </tr>\n",
       "    <tr>\n",
       "      <th>career_focused</th>\n",
       "      <td>0.027350</td>\n",
       "      <td>0.167521</td>\n",
       "      <td>35.700855</td>\n",
       "      <td>0.731624</td>\n",
       "      <td>141489.721368</td>\n",
       "      <td>1.266667</td>\n",
       "      <td>1.475214</td>\n",
       "      <td>1.367167</td>\n",
       "      <td>-1.050209</td>\n",
       "      <td>-0.247981</td>\n",
       "      <td>585</td>\n",
       "      <td>0.2925</td>\n",
       "    </tr>\n",
       "    <tr>\n",
       "      <th>fewer-opportunities</th>\n",
       "      <td>0.900433</td>\n",
       "      <td>0.965368</td>\n",
       "      <td>28.913420</td>\n",
       "      <td>1.062049</td>\n",
       "      <td>107551.946609</td>\n",
       "      <td>0.676768</td>\n",
       "      <td>0.440115</td>\n",
       "      <td>-1.106918</td>\n",
       "      <td>0.706367</td>\n",
       "      <td>-0.778269</td>\n",
       "      <td>693</td>\n",
       "      <td>0.3465</td>\n",
       "    </tr>\n",
       "    <tr>\n",
       "      <th>well-off</th>\n",
       "      <td>0.505703</td>\n",
       "      <td>0.688213</td>\n",
       "      <td>55.722433</td>\n",
       "      <td>2.129278</td>\n",
       "      <td>158391.676806</td>\n",
       "      <td>1.129278</td>\n",
       "      <td>1.110266</td>\n",
       "      <td>1.706153</td>\n",
       "      <td>2.031716</td>\n",
       "      <td>0.838839</td>\n",
       "      <td>263</td>\n",
       "      <td>0.1315</td>\n",
       "    </tr>\n",
       "  </tbody>\n",
       "</table>\n",
       "</div>"
      ],
      "text/plain": [
       "                          Sex  Marital status        Age  Education  \\\n",
       "Segment_KMeans_PCA                                                    \n",
       "standard             0.307190        0.098039  35.383442   0.766885   \n",
       "career_focused       0.027350        0.167521  35.700855   0.731624   \n",
       "fewer-opportunities  0.900433        0.965368  28.913420   1.062049   \n",
       "well-off             0.505703        0.688213  55.722433   2.129278   \n",
       "\n",
       "                            Income  Occupation  Settlement size  component_1  \\\n",
       "Segment_KMeans_PCA                                                             \n",
       "standard              93566.102397    0.248366         0.039216    -1.048838   \n",
       "career_focused       141489.721368    1.266667         1.475214     1.367167   \n",
       "fewer-opportunities  107551.946609    0.676768         0.440115    -1.106918   \n",
       "well-off             158391.676806    1.129278         1.110266     1.706153   \n",
       "\n",
       "                     component_2  component_3  N_Obs  Prop_Obs  \n",
       "Segment_KMeans_PCA                                              \n",
       "standard               -0.892116     1.010446    459    0.2295  \n",
       "career_focused         -1.050209    -0.247981    585    0.2925  \n",
       "fewer-opportunities     0.706367    -0.778269    693    0.3465  \n",
       "well-off                2.031716     0.838839    263    0.1315  "
      ]
     },
     "execution_count": 42,
     "metadata": {},
     "output_type": "execute_result"
    }
   ],
   "source": [
    "df_seg_pca_kmeans_freq.rename({'Z':'well-off', 'Y': 'fewer-opportunities', \n",
    "                        'W': 'standard', 'X': 'career_focused'}, inplace =True)\n",
    "\n",
    "df_seg_pca_kmeans_freq"
   ]
  },
  {
   "cell_type": "markdown",
   "metadata": {},
   "source": [
    "> Then I visualized the clusters. Since we are plotting on a 2D plane, we should choose two of the components and use them as axis for the visualization. For most cases, I choose the most important components, since we can be absolutely sure that the first two components explain more variance than the third one."
   ]
  },
  {
   "cell_type": "code",
   "execution_count": 43,
   "metadata": {},
   "outputs": [],
   "source": [
    "df_seg_pca_kmeans['Legend'] = df_seg_pca_kmeans['Segment_KMeans_PCA'].map({'Z':'well-off', 'Y': 'fewer-opportunities', \n",
    "                        'W': 'standard', 'X': 'career_focused'})"
   ]
  },
  {
   "cell_type": "code",
   "execution_count": null,
   "metadata": {},
   "outputs": [],
   "source": [
    "x_axis = df_seg_pca_kmeans['component_2']\n",
    "y_axis = df_seg_pca_kmeans['component_1']\n",
    "plt.figure(figsize = (10,8))\n",
    "sns.scatterplot(x_axis, y_axis, hue = df_seg_pca_kmeans['Legend'], palette =  ['g', 'c', 'r', 'm'] )\n",
    "plt.title('Clusters by PCA components', fontsize =20)\n",
    "plt.legend( bbox_to_anchor = (1, 0.5), loc = 6)\n",
    "plt.show()"
   ]
  },
  {
   "cell_type": "markdown",
   "metadata": {},
   "source": [
    ">**Findings:** Now we clearly see the separate clusters. The green segment is the Well-Off segment and the purple segment is career focused. Both are well-separated. The red and blue represent the standard and fewer opportunities segments, respectively. <br><br>\n",
    "Previously, when we plotted the K-Means clustering solution without PCA, we could only distinguish the green segment. However now, the division based on the components is much more pronounced. This is one of the largest advantages of using PCA, reducing the number of variables by combining them into bigger more meaningful features.<br><br>\n",
    "Note that using PCA technique means the features are orthogonal to each other, which means that the difference between components is as big as possible. Still, we can see some overlap between the red and blue segment. However overall, all 4 segments are pretty much clearly separated the spots.\n"
   ]
  },
  {
   "cell_type": "markdown",
   "metadata": {},
   "source": [
    "### Data Export using pickle"
   ]
  },
  {
   "cell_type": "code",
   "execution_count": 45,
   "metadata": {},
   "outputs": [],
   "source": [
    "import pickle # a module used to turn python object into string streams "
   ]
  },
  {
   "cell_type": "code",
   "execution_count": 46,
   "metadata": {},
   "outputs": [],
   "source": [
    "# Scaler \n",
    "pickle.dump(scaler, open('scaler.pickle', 'wb'))\n",
    "# PCA \n",
    "pickle.dump(pca, open('pca.pickle', 'wb'))\n",
    "# KMeans PCA \n",
    "pickle.dump(kmeans_pca, open('kmeans_pca.pickle', 'wb'))"
   ]
  },
  {
   "cell_type": "markdown",
   "metadata": {},
   "source": [
    "These exported objects will be used for preprocessing in the second part of analysis: Purchase Analytics."
   ]
  }
 ],
 "metadata": {
  "kernelspec": {
   "display_name": "Python 3",
   "language": "python",
   "name": "python3"
  },
  "language_info": {
   "codemirror_mode": {
    "name": "ipython",
    "version": 3
   },
   "file_extension": ".py",
   "mimetype": "text/x-python",
   "name": "python",
   "nbconvert_exporter": "python",
   "pygments_lexer": "ipython3",
   "version": "3.7.6"
  }
 },
 "nbformat": 4,
 "nbformat_minor": 4
}
